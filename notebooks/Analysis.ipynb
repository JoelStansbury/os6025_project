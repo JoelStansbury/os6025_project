{
 "cells": [
  {
   "cell_type": "code",
   "execution_count": null,
   "id": "2bb1bf98-5a05-47c0-b6e6-29a3f40636fe",
   "metadata": {},
   "outputs": [],
   "source": [
    "from pathlib import Path\n",
    "from zipfile import ZipFile\n",
    "\n",
    "import pandas as pd\n",
    "from sklearn.model_selection import train_test_split\n",
    "from sklearn.ensemble import RandomForestClassifier as RFC\n",
    "import matplotlib.pyplot as plt"
   ]
  },
  {
   "cell_type": "markdown",
   "id": "c2c5ff47-1b36-4044-8c71-9498e19b65b6",
   "metadata": {},
   "source": [
    "# Data\n",
    "This data was obtained from https://www.kaggle.com/c/malware-detection<br>\n",
    "To evaluate this workbook you will need access to the data. Login or create an account with kaggle (or login via google) to access link. Accept the terms and conditions of the competion and click the `Download All` button in the `Data` tab.<br>\n",
    "Place the zip file in the root folder of this repository. (The next cell will extract it into the correct location)\n",
    "<br><br>\n",
    "__Data Description__ _from Kaggle_<br>\n",
    "The raw data here was obtained from the malware security partner of Meraz'18 - Annual Techno Cultural festival of IIT Bhilai, the said raw data constituted malware and legitimate files.\n",
    "\n",
    "Malware represents software which is specifically designed to disrupt, damage, or gain authorised access to a computer system. Legitimate files are software that don't behave like malware and are useful and harmless to the users.\n",
    "\n",
    "Statistical analysis was done on these files which mainly constituted the extraction of PE information and calculation of entropy of different sections of these files.\n",
    "\n",
    "More data might be made public as the competition progresses to incorporate newly discovered zero day viruses to check the robustness of your algorithm. Doing this will also help you get an experience of the pressure under which these anti-malware software giants like Max Secure Software work to provide uninterrupted protection."
   ]
  },
  {
   "cell_type": "code",
   "execution_count": null,
   "id": "e5c5c4a4-bba0-42e1-b902-579a3605bfc8",
   "metadata": {},
   "outputs": [],
   "source": [
    "# Check if the zip folder has been extracted and extract it if not\n",
    "data_dir = Path(\"../data\")\n",
    "if not data_dir.exists():\n",
    "    data_dir.mkdir()\n",
    "    z_path = Path(\"../malware-detection.zip\")\n",
    "    ZipFile(file=z_path).extractall(path=data_dir, )"
   ]
  },
  {
   "cell_type": "code",
   "execution_count": null,
   "id": "ec749dff-6aa6-4aa2-8eeb-ad2d9c646174",
   "metadata": {},
   "outputs": [],
   "source": [
    "# This helps the dataframe load faster\n",
    "dtypes = {\n",
    "    'ID': int,\n",
    "    'md5': str,\n",
    "    'Machine': str,\n",
    "    'SizeOfOptionalHeader': int,\n",
    "    'Characteristics': int,\n",
    "    'MajorLinkerVersion': float,\n",
    "    'MinorLinkerVersion': int,\n",
    "    'SizeOfCode': int,\n",
    "    'SizeOfInitializedData': int,\n",
    "    'SizeOfUninitializedData': int,\n",
    "    'AddressOfEntryPoint': int,\n",
    "    'BaseOfCode': int,\n",
    "    'BaseOfData': int,\n",
    "    'ImageBase': float,\n",
    "    'SectionAlignment': int,\n",
    "    'FileAlignment': int,\n",
    "    'MajorOperatingSystemVersion': int,\n",
    "    'MinorOperatingSystemVersion': int,\n",
    "    'MajorImageVersion': int,\n",
    "    'MinorImageVersion': int,\n",
    "    'MajorSubsystemVersion': int,\n",
    "    'MinorSubsystemVersion': int,\n",
    "    'SizeOfImage': int,\n",
    "    'SizeOfHeaders': int,\n",
    "    'CheckSum': int,\n",
    "    'Subsystem': int,\n",
    "    'DllCharacteristics': int,\n",
    "    'SizeOfStackReserve': int,\n",
    "    'SizeOfStackCommit': int,\n",
    "    'SizeOfHeapReserve': int,\n",
    "    'SizeOfHeapCommit': int,\n",
    "    'LoaderFlags': int,\n",
    "    'NumberOfRvaAndSizes': int,\n",
    "    'SectionsNb': int,\n",
    "    'SectionsMeanEntropy': float,\n",
    "    'SectionsMinEntropy': float,\n",
    "    'SectionsMaxEntropy': float,\n",
    "    'SectionsMeanRawsize': float,\n",
    "    'SectionsMinRawsize': int,\n",
    "    'SectionMaxRawsize': int,\n",
    "    'SectionsMeanVirtualsize': float,\n",
    "    'SectionsMinVirtualsize': float,\n",
    "    'SectionMaxVirtualsize': int,\n",
    "    'ImportsNbDLL': int,\n",
    "    'ImportsNb': int,\n",
    "    'ImportsNbOrdinal': int,\n",
    "    'ExportNb': int,\n",
    "    'ResourcesNb': int,\n",
    "    'ResourcesMeanEntropy': float,\n",
    "    'ResourcesMinEntropy': float,\n",
    "    'ResourcesMaxEntropy': float,\n",
    "    'ResourcesMeanSize': float,\n",
    "    'ResourcesMinSize': float,\n",
    "    'ResourcesMaxSize': int,\n",
    "    'LoadConfigurationSize': int,\n",
    "    'VersionInformationSize': int,\n",
    "    'legitimate': int,\n",
    "    'Unnamed: 57': float\n",
    "}"
   ]
  },
  {
   "cell_type": "code",
   "execution_count": null,
   "id": "1eaf82f5-8122-4f6b-8e6f-1d7aeaf8e0d1",
   "metadata": {},
   "outputs": [],
   "source": [
    "kdata = pd.read_csv(data_dir / \"Kaggle-data.csv\", dtype=dtypes)"
   ]
  },
  {
   "cell_type": "code",
   "execution_count": null,
   "id": "f8c51ffd-4ef7-4b3d-993e-a117f289f986",
   "metadata": {},
   "outputs": [],
   "source": [
    "# Extract the input data and output data from the dataset\n",
    "X = kdata.iloc[:, 3:-2]\n",
    "Y = kdata[\"legitimate\"]"
   ]
  },
  {
   "cell_type": "code",
   "execution_count": null,
   "id": "529a873e-784c-4d73-a84f-3873d7293a45",
   "metadata": {},
   "outputs": [],
   "source": [
    "# Replace any `N/A`s with `0`. This prevents errors in training\n",
    "X.fillna(0, inplace=True)"
   ]
  },
  {
   "cell_type": "code",
   "execution_count": null,
   "id": "c34912b8-5fb7-45a2-8a99-f2d1da1e4846",
   "metadata": {},
   "outputs": [],
   "source": [
    "X # Preview of the training data"
   ]
  },
  {
   "cell_type": "code",
   "execution_count": null,
   "id": "2113bc65-2041-4f47-87c0-a74f90e622f3",
   "metadata": {},
   "outputs": [],
   "source": [
    "X_train, X_test, y_train, y_test = train_test_split(X, Y, test_size=0.33, random_state=42)"
   ]
  },
  {
   "cell_type": "code",
   "execution_count": null,
   "id": "557ec05e-45cf-43ac-929f-4d848f0ef12c",
   "metadata": {},
   "outputs": [],
   "source": [
    "model = RFC(verbose=1, n_jobs=4)"
   ]
  },
  {
   "cell_type": "code",
   "execution_count": null,
   "id": "ffb05dd2-19b7-4e45-ae1d-0a722eb6eacf",
   "metadata": {},
   "outputs": [],
   "source": [
    "model.fit(X_train, y_train)"
   ]
  },
  {
   "cell_type": "markdown",
   "id": "99014789-cb01-43cb-9b2b-7f9698e3ce97",
   "metadata": {},
   "source": [
    "### Validation\n",
    "Testing out the model on unseen data"
   ]
  },
  {
   "cell_type": "code",
   "execution_count": null,
   "id": "41eda979-7e94-41b4-876f-23ac3da8c62b",
   "metadata": {},
   "outputs": [],
   "source": [
    "model.score(X_test, y_test)"
   ]
  },
  {
   "cell_type": "markdown",
   "id": "f9b25afa-6066-4938-a745-e7c568251828",
   "metadata": {},
   "source": [
    "### Feature Importance\n",
    "This plot shows the top 10 most important features that the model used to determine legitimacy"
   ]
  },
  {
   "cell_type": "code",
   "execution_count": null,
   "id": "100ae784-9a86-4512-8a5c-c2e16e4ddb6b",
   "metadata": {},
   "outputs": [],
   "source": [
    "feature_importances = sorted(\n",
    "    zip(X.columns,model.feature_importances_),\n",
    "    key=lambda x:x[1],\n",
    "    reverse = True\n",
    ")\n",
    "label, score = zip(*feature_importances[:10])\n",
    "\n",
    "plt.bar(label, score)\n",
    "plt.xticks(rotation=90, size=10)\n",
    "plt.show()"
   ]
  },
  {
   "cell_type": "code",
   "execution_count": null,
   "id": "83a2d9c3-56a3-4ee6-b44d-4888e7b91665",
   "metadata": {},
   "outputs": [],
   "source": [
    "y_predict = model.predict(X_test)"
   ]
  },
  {
   "cell_type": "code",
   "execution_count": null,
   "id": "c6672d29-f0eb-4147-8b4b-4a9fe4574a7e",
   "metadata": {},
   "outputs": [],
   "source": [
    "print(f\"True Positives: {sum(y_predict*y_test)} (correctly labeled safe)\")\n",
    "print(f\"True Negatives: {sum((y_predict==0)*(y_test==0))} (correctly labeled unsafe)\")\n",
    "print(f\"False Positives: {sum(y_predict*(y_test==0))} (incorrectly labeled safe)\")\n",
    "print(f\"False Negatives: {sum((y_predict==0)*y_test)} (incorrectly labeled unsafe)\")"
   ]
  },
  {
   "cell_type": "code",
   "execution_count": null,
   "id": "0cb687ee-38dc-4ada-b225-96a387701abe",
   "metadata": {},
   "outputs": [],
   "source": []
  }
 ],
 "metadata": {
  "kernelspec": {
   "display_name": "Python 3 (ipykernel)",
   "language": "python",
   "name": "python3"
  },
  "language_info": {
   "codemirror_mode": {
    "name": "ipython",
    "version": 3
   },
   "file_extension": ".py",
   "mimetype": "text/x-python",
   "name": "python",
   "nbconvert_exporter": "python",
   "pygments_lexer": "ipython3",
   "version": "3.9.7"
  }
 },
 "nbformat": 4,
 "nbformat_minor": 5
}
